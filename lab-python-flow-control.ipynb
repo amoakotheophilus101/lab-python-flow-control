{
 "cells": [
  {
   "cell_type": "markdown",
   "id": "d3bfc191-8885-42ee-b0a0-bbab867c6f9f",
   "metadata": {
    "tags": []
   },
   "source": [
    "# Lab | Flow Control"
   ]
  },
  {
   "cell_type": "markdown",
   "id": "3851fcd1-cf98-4653-9c89-e003b7ec9400",
   "metadata": {},
   "source": [
    "## Exercise: Managing Customer Orders Optimized\n",
    "\n",
    "In the last lab, you were starting an online store that sells various products. To ensure smooth operations, you developed a program that manages customer orders and inventory.\n",
    "\n",
    "You did so without using flow control. Let's go a step further and improve this code.\n",
    "\n",
    "Follow the steps below to complete the exercise:\n",
    "\n",
    "1. Look at your code from the lab data structures, and improve repeated code with loops.\n",
    "\n",
    "2. Instead of asking the user to input the name of three products that a customer wants to order, do the following:\n",
    "    \n",
    "    a. Prompt the user to enter the name of a product that a customer wants to order.\n",
    "    \n",
    "    b. Add the product name to the \"customer_orders\" set.\n",
    "    \n",
    "    c. Ask the user if they want to add another product (yes/no).\n",
    "    \n",
    "    d. Continue the loop until the user does not want to add another product.\n",
    "\n",
    "3. Instead of updating the inventory by subtracting 1 from the quantity of each product, only do it for  the products that were ordered (those in \"customer_orders\")."
   ]
  },
  {
   "cell_type": "code",
   "execution_count": 3,
   "id": "d8db3172-2c1d-4972-8783-dd5829a6f5b4",
   "metadata": {},
   "outputs": [],
   "source": [
    "# Define products list"
   ]
  },
  {
   "cell_type": "raw",
   "id": "7b763516-de28-40e4-a81b-9d1ca2345243",
   "metadata": {},
   "source": [
    "products = [\"t-shirt\", \"mug\", \"hat\", \"book\", \"keychain\"]"
   ]
  },
  {
   "cell_type": "code",
   "execution_count": 4,
   "id": "fce474e6-0242-4bbf-bda1-0c6179a0378b",
   "metadata": {},
   "outputs": [],
   "source": [
    "# Create an empty inventory dictionary"
   ]
  },
  {
   "cell_type": "code",
   "execution_count": 5,
   "id": "31b89cf1-c418-46a2-b664-bce6c2a35aad",
   "metadata": {},
   "outputs": [],
   "source": [
    "inventory = {}"
   ]
  },
  {
   "cell_type": "code",
   "execution_count": 6,
   "id": "362bd41d-4c97-4b77-a4b6-6112b6ec0828",
   "metadata": {},
   "outputs": [
    {
     "name": "stdout",
     "output_type": "stream",
     "text": [
      "Enter the quantity available for each product:\n"
     ]
    }
   ],
   "source": [
    "# Get inventory input from the user\n",
    "print(\"Enter the quantity available for each product:\")"
   ]
  },
  {
   "cell_type": "code",
   "execution_count": 7,
   "id": "73841ada-de19-4a04-b183-871ba3a09acb",
   "metadata": {},
   "outputs": [
    {
     "name": "stdin",
     "output_type": "stream",
     "text": [
      "t-shirt:  10\n",
      "mug:  8\n",
      "hat:  15\n",
      "book:  20\n",
      "keychain:  25\n"
     ]
    }
   ],
   "source": [
    "products = [\"t-shirt\", \"mug\", \"hat\", \"book\", \"keychain\"]\n",
    "for product in products:\n",
    "    inventory[product] = int(input(f\"{product}: \"))"
   ]
  },
  {
   "cell_type": "code",
   "execution_count": 8,
   "id": "02f662f1-1f39-4dd5-b277-1edf6d4c62bd",
   "metadata": {},
   "outputs": [],
   "source": [
    "# # Create an empty set for customer orders"
   ]
  },
  {
   "cell_type": "code",
   "execution_count": 9,
   "id": "af0d2107-fa9c-4a33-bfe7-18e1c2b99375",
   "metadata": {},
   "outputs": [],
   "source": [
    "customer_orders = set()"
   ]
  },
  {
   "cell_type": "code",
   "execution_count": 10,
   "id": "c0e718d4-9a54-4cdd-9f0a-061ba8972b1e",
   "metadata": {},
   "outputs": [
    {
     "name": "stdin",
     "output_type": "stream",
     "text": [
      "\n",
      "Enter the name of a product to order:  \"t-shirt\"\n"
     ]
    },
    {
     "name": "stdout",
     "output_type": "stream",
     "text": [
      "Invalid product. Please choose from the available products.\n"
     ]
    },
    {
     "name": "stdin",
     "output_type": "stream",
     "text": [
      "Do you want to add another product? (yes/no):  no\n"
     ]
    }
   ],
   "source": [
    "# Get customer orders input using a loop\n",
    "while True:\n",
    "    order = input(\"\\nEnter the name of a product to order: \").strip().lower()\n",
    "    if order in products:\n",
    "        customer_orders.add(order)\n",
    "    else:\n",
    "        print(\"Invalid product. Please choose from the available products.\")\n",
    "        another = input(\"Do you want to add another product? (yes/no): \").strip().lower()\n",
    "        if another != \"yes\":\n",
    "            break"
   ]
  },
  {
   "cell_type": "code",
   "execution_count": 20,
   "id": "824f7414-8e45-4cb9-bdd7-8577102e5c15",
   "metadata": {},
   "outputs": [
    {
     "name": "stdout",
     "output_type": "stream",
     "text": [
      "\n",
      "Products ordered: set()\n"
     ]
    }
   ],
   "source": [
    "# Print the customer orders\n",
    "print(\"\\nProducts ordered:\", customer_orders)"
   ]
  },
  {
   "cell_type": "code",
   "execution_count": 22,
   "id": "1fdade73-5784-4927-88c5-32322b9a612e",
   "metadata": {},
   "outputs": [],
   "source": [
    "# Calculate order statistics\n",
    "total_products_ordered = len(customer_orders)\n",
    "total_available_products = sum(inventory.values())\n",
    "percentage_ordered = (total_products_ordered / total_available_products) * 100 if total_available_products > 0 else 0\n",
    "order_status = (total_products_ordered, round(percentage_ordered, 2))"
   ]
  },
  {
   "cell_type": "code",
   "execution_count": 24,
   "id": "d60f1e0c-eb9e-4585-a472-368645c8eb30",
   "metadata": {},
   "outputs": [
    {
     "name": "stdout",
     "output_type": "stream",
     "text": [
      "\n",
      "Order Statistics:\n",
      "Total Products Ordered: 0\n",
      "Percentage of Products Ordered: 0.0%\n"
     ]
    }
   ],
   "source": [
    "# Print order statistics\n",
    "print(\"\\nOrder Statistics:\")\n",
    "print(f\"Total Products Ordered: {order_status[0]}\")\n",
    "print(f\"Percentage of Products Ordered: {order_status[1]}%\")\n"
   ]
  },
  {
   "cell_type": "code",
   "execution_count": 26,
   "id": "99311a78-d283-476f-9334-02a816ed31fd",
   "metadata": {},
   "outputs": [],
   "source": [
    "# Update inventory only for ordered products\n",
    "for product in customer_orders:\n",
    "    if inventory[product] > 0:\n",
    "        inventory[product] -= 1"
   ]
  },
  {
   "cell_type": "code",
   "execution_count": 28,
   "id": "bca6b26a-0f86-4924-ae90-ed8c0a5fb269",
   "metadata": {},
   "outputs": [
    {
     "name": "stdout",
     "output_type": "stream",
     "text": [
      "\n",
      "Updated Inventory:\n",
      "t-shirt: 10\n",
      "mug: 8\n",
      "hat: 15\n",
      "book: 20\n",
      "keychain: 25\n"
     ]
    }
   ],
   "source": [
    "# Print updated inventory\n",
    "print(\"\\nUpdated Inventory:\")\n",
    "for product, quantity in inventory.items():\n",
    "    print(f\"{product}: {quantity}\")"
   ]
  },
  {
   "cell_type": "code",
   "execution_count": null,
   "id": "31339510-6eb7-4106-910b-848e389eaf72",
   "metadata": {},
   "outputs": [],
   "source": []
  }
 ],
 "metadata": {
  "kernelspec": {
   "display_name": "Python [conda env:Higgs] *",
   "language": "python",
   "name": "conda-env-Higgs-py"
  },
  "language_info": {
   "codemirror_mode": {
    "name": "ipython",
    "version": 3
   },
   "file_extension": ".py",
   "mimetype": "text/x-python",
   "name": "python",
   "nbconvert_exporter": "python",
   "pygments_lexer": "ipython3",
   "version": "3.12.9"
  }
 },
 "nbformat": 4,
 "nbformat_minor": 5
}
